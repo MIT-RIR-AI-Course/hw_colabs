{
 "cells": [
  {
   "cell_type": "markdown",
   "id": "39caeadc",
   "metadata": {},
   "source": [
    "# Homework 6"
   ]
  },
  {
   "cell_type": "code",
   "execution_count": null,
   "id": "4e64ad52",
   "metadata": {},
   "outputs": [],
   "source": [
    "# Setup matplotlib animation\n",
    "import matplotlib\n",
    "matplotlib.rc('animation', html='jshtml')"
   ]
  },
  {
   "cell_type": "markdown",
   "id": "ab36ca6c",
   "metadata": {},
   "source": [
    "## Imports and Utilities\n",
    "**Note**: these imports and functions are available in catsoop. You do not need to copy them in."
   ]
  },
  {
   "cell_type": "code",
   "execution_count": null,
   "id": "6934f39a",
   "metadata": {},
   "outputs": [],
   "source": [
    "from collections import namedtuple\n",
    "import numpy as np\n",
    "\n",
    "Gaussian = namedtuple(\"Gaussian\", [\"mean\", \"var\"])\n",
    "\n",
    "\n",
    "class Simulator_1d:\n",
    "    \"\"\"A simulator for a robot moving in 1D.\n",
    "\n",
    "        The simulator simulates the motion and sensor noises of the robot by sampling from 1D Gaussians.\n",
    "    \"\"\"\n",
    "\n",
    "    def __init__(self, init_state=0.0, process_var=0.0, measurement_var=0.0, seed=0):\n",
    "        # Initial simulator state\n",
    "        self.init_state = init_state\n",
    "        self.process_std = np.sqrt(process_var)\n",
    "        self.measurement_std = np.sqrt(measurement_var)\n",
    "        self.rng = np.random.default_rng(seed)\n",
    "\n",
    "        self.state = self.init_state\n",
    "\n",
    "    def simulate_motion(self, u):\n",
    "        \"\"\"Simulate robot motion. This function updates the value of\n",
    "        self.state.\n",
    "\n",
    "        Args:\n",
    "            control: u .\n",
    "        \"\"\"\n",
    "        motion_noise = self.rng.normal(0, self.process_std)\n",
    "        self.state = self.state + u + motion_noise\n",
    "\n",
    "    def simulate_sensing(self):\n",
    "        \"\"\"Simulate the robot sensing process. Returns a measurement of the robot's current location.\n",
    "            Measurement is based on the current location, with a Gaussian noise added.\n",
    "\n",
    "        Returns:\n",
    "            measurement: a scalar representing the measurement of robot's location.\n",
    "        \"\"\"\n",
    "        sensor_noise = self.rng.normal(0, self.measurement_std)\n",
    "        return self.state + sensor_noise\n",
    "\n",
    "    def simulate_step(self, control, return_gt_loc=False):\n",
    "        \"\"\"\n",
    "            Run the simulation for one step with given control input, and returns the sensing result.\n",
    "        \"\"\"\n",
    "        self.simulate_motion(control)\n",
    "        if return_gt_loc:\n",
    "            return self.simulate_sensing(), self.state\n",
    "        return self.simulate_sensing()\n",
    "\n"
   ]
  },
  {
   "cell_type": "markdown",
   "id": "75c051e2",
   "metadata": {},
   "source": [
    "## Kalman Filter Warmup\n"
   ]
  },
  {
   "cell_type": "markdown",
   "id": "69dbb071",
   "metadata": {},
   "source": [
    "### Question\n",
    "Return an `Gaussian` object with mean=0, std=2. See provided code for definition\n",
    "\n",
    "For reference, our solution is **3** line(s) of code."
   ]
  },
  {
   "cell_type": "code",
   "execution_count": null,
   "id": "786dbc8c",
   "metadata": {},
   "outputs": [],
   "source": [
    "def kf_warmup():\n",
    "    \"\"\"Return an `Gaussian` object with mean=0, std=2.\n",
    "    \"\"\"\n",
    "    raise NotImplementedError(\"Implement me!\")"
   ]
  },
  {
   "cell_type": "markdown",
   "id": "c19ef492",
   "metadata": {},
   "source": [
    "### Tests"
   ]
  },
  {
   "cell_type": "code",
   "execution_count": null,
   "id": "e626e032",
   "metadata": {},
   "outputs": [],
   "source": [
    "def kf_warmup_test():\n",
    "    dist = kf_warmup()\n",
    "    assert dist.mean == 0\n",
    "    assert dist.var == 4\n",
    "\n",
    "kf_warmup_test()\n",
    "\n",
    "print('Tests passed.')"
   ]
  },
  {
   "cell_type": "markdown",
   "id": "cd86a207",
   "metadata": {},
   "source": [
    "## Kalman filter process model\n"
   ]
  },
  {
   "cell_type": "markdown",
   "id": "0015d8e6",
   "metadata": {},
   "source": [
    "### Question\n",
    "Implement the process step of a 1D Kalman filter, given a prior distribution which is gaussian, \n",
    "  a process model $a$, $\\sigma^2_w$, and a control $u$.\n",
    "\n",
    "For reference, our solution is **5** line(s) of code."
   ]
  },
  {
   "cell_type": "code",
   "execution_count": null,
   "id": "c9bd8c2e",
   "metadata": {},
   "outputs": [],
   "source": [
    "def kf_process(state_prior, a, square_sigma_w, u):\n",
    "    \"\"\"Implement the process step of a 1D Kalman filter, given a prior distribution which is gaussian,\n",
    "        a process model $a$, $\\sigma^2_w$, and a control $u$.\n",
    "\n",
    "    Returns:\n",
    "        Gaussian: an updated gaussian.\n",
    "    \"\"\"\n",
    "    raise NotImplementedError(\"Implement me!\")"
   ]
  },
  {
   "cell_type": "markdown",
   "id": "7fe5efbc",
   "metadata": {},
   "source": [
    "### Tests"
   ]
  },
  {
   "cell_type": "code",
   "execution_count": null,
   "id": "4e9f1a5f",
   "metadata": {},
   "outputs": [],
   "source": [
    "def kf_process_test1():\n",
    "    state_prior = Gaussian(4, 4)\n",
    "    pred_state = kf_process(state_prior, 2, 2, 0)\n",
    "    assert np.allclose([pred_state.mean, pred_state.var], [8, 18], atol=1e-4)\n",
    "\n",
    "kf_process_test1()\n",
    "\n",
    "\n",
    "def kf_process_test2():\n",
    "    state_prior = Gaussian(4, 1)\n",
    "    pred_state = kf_process(state_prior, 1, 1, 1)\n",
    "    assert np.allclose([pred_state.mean, pred_state.var], [5, 2], atol=1e-4)\n",
    "\n",
    "kf_process_test2()\n",
    "\n",
    "print('Tests passed.')"
   ]
  },
  {
   "cell_type": "markdown",
   "id": "70a0e6c7",
   "metadata": {},
   "source": [
    "## Kalman filter measurement model\n"
   ]
  },
  {
   "cell_type": "markdown",
   "id": "a38e5f8e",
   "metadata": {},
   "source": [
    "### Question\n",
    "Implement the measurement step of a 1D Kalman filter, given a prior mean and variance, \n",
    "  a measurement model $h$, $\\sigma^2_v$, and a received measurement $y$.  \n",
    "\n",
    "For reference, our solution is **19** line(s) of code."
   ]
  },
  {
   "cell_type": "code",
   "execution_count": null,
   "id": "3de8d4fb",
   "metadata": {},
   "outputs": [],
   "source": [
    "def kf_measurement(pred_state, h, square_sigma_v, y):\n",
    "    \"\"\"Implement the measurement step of a 1D Kalman filter, given a prior mean and variance,\n",
    "        a measurement model $h$, $\\sigma^2_v$, and a received measurement $y$.\n",
    "\n",
    "    Returns:\n",
    "        Gaussian: an updated gaussian given the measurement.\n",
    "    \"\"\"\n",
    "    raise NotImplementedError(\"Implement me!\")"
   ]
  },
  {
   "cell_type": "markdown",
   "id": "4bda19a3",
   "metadata": {},
   "source": [
    "### Tests"
   ]
  },
  {
   "cell_type": "code",
   "execution_count": null,
   "id": "4e746b05",
   "metadata": {},
   "outputs": [],
   "source": [
    "def kf_measurement_test1():\n",
    "    state = Gaussian(5, 2)\n",
    "    state_posterior = kf_measurement(state, 1, 1, 5)\n",
    "    assert np.allclose([state_posterior.mean, state_posterior.var], [5., 0.6667], atol=1e-4)\n",
    "\n",
    "kf_measurement_test1()\n",
    "\n",
    "\n",
    "def kf_measurement_test2():\n",
    "    state = Gaussian(5, 2)\n",
    "    state_posterior = kf_measurement(state, 1, 1, 10)\n",
    "    assert np.allclose([state_posterior.mean, state_posterior.var], [8.3334, 0.6667], atol=1e-4)\n",
    "\n",
    "kf_measurement_test2()\n",
    "\n",
    "print('Tests passed.')"
   ]
  },
  {
   "cell_type": "markdown",
   "id": "34eb3e43",
   "metadata": {},
   "source": [
    "## Kalman filter\n"
   ]
  },
  {
   "cell_type": "markdown",
   "id": "e96f7ccd",
   "metadata": {},
   "source": [
    "### Question\n",
    "Combine the process and measurement steps into a single estimator that takes a prior,\n",
    "a list of controls and measurements, a process model and a measurement model, and returns a posterior.\n",
    "\n",
    "For reference, our solution is **8** line(s) of code.\n",
    "\n",
    "In addition to all the utilities defined at the top of the Colab notebook, the following functions are available in this question environment: `kf_measurement`, `kf_process`. You may not need to use all of them."
   ]
  },
  {
   "cell_type": "code",
   "execution_count": null,
   "id": "f682f9ae",
   "metadata": {},
   "outputs": [],
   "source": [
    "def kf(state_prior, a, square_sigma_w, h, square_sigma_v, controls, measurements):\n",
    "    \"\"\"Combine the process and measurement steps into a single estimator that takes a prior,\n",
    "        a list of controls and measurements, a process model and a measurement model, and returns a posterior.\n",
    "    \"\"\"\n",
    "    raise NotImplementedError(\"Implement me!\")"
   ]
  },
  {
   "cell_type": "markdown",
   "id": "4a18d92e",
   "metadata": {},
   "source": [
    "### Tests"
   ]
  },
  {
   "cell_type": "code",
   "execution_count": null,
   "id": "def7c214",
   "metadata": {},
   "outputs": [],
   "source": [
    "def kf_test1():\n",
    "    state_init = Gaussian(0, 40)\n",
    "    a = 1.\n",
    "    h = 1.\n",
    "    square_sigma_w = 1.\n",
    "    square_sigma_v = 2.\n",
    "\n",
    "    simulator = Simulator_1d(process_var=square_sigma_w, measurement_var=square_sigma_v)\n",
    "    controls = [1.0 for _ in range(10)]\n",
    "    measurements = [simulator.simulate_step(u) for u in controls]\n",
    "\n",
    "    state = kf(state_init, a, square_sigma_w, h, square_sigma_v, controls, measurements)\n",
    "    assert np.allclose([state.mean, state.var], [7.2195, 1.000], atol=1e-4)\n",
    "\n",
    "kf_test1()\n",
    "\n",
    "\n",
    "def kf_test2():\n",
    "    state_init = Gaussian(0, 400)\n",
    "    a = 1.\n",
    "    h = 1.\n",
    "    square_sigma_w = 4.\n",
    "    square_sigma_v = 1.\n",
    "\n",
    "    simulator = Simulator_1d(process_var=square_sigma_w, measurement_var=square_sigma_v)\n",
    "    controls = [2. for _ in range(40)]\n",
    "    measurements = [simulator.simulate_step(u) for u in controls]\n",
    "\n",
    "    state = kf(state_init, a, square_sigma_w, h, square_sigma_v, controls, measurements)\n",
    "    assert np.allclose([state.mean, state.var], [87.0068, 0.8284], atol=1e-4)\n",
    "\n",
    "kf_test2()\n",
    "\n",
    "print('Tests passed.')"
   ]
  },
  {
   "cell_type": "markdown",
   "id": "d7c50f68",
   "metadata": {},
   "source": [
    "## Kalman Filter Visualization\n"
   ]
  },
  {
   "cell_type": "markdown",
   "id": "8411f3c1",
   "metadata": {},
   "source": [
    "### Question\n",
    "We have created a visualization tool in Colab for the filtering process. \n",
    "    You can run the code blocks and an animation of the filtered gaussian in each step will be shown.\n",
    "    There is also a plot showing the line chart of ground-truth locations, measurements, and posteriors."
   ]
  },
  {
   "cell_type": "code",
   "execution_count": null,
   "id": "7214356d",
   "metadata": {},
   "outputs": [],
   "source": [
    "import matplotlib.pyplot as plt\n",
    "\n",
    "def plot_gaussian(gaussian, label, ax=None):\n",
    "    mean, var = gaussian.mean, gaussian.var\n",
    "\n",
    "    xmin, xmax, ymin, ymax = -5, 15, 0, 0.6\n",
    "    x = np.linspace(xmin, xmax, 100)\n",
    "    y = np.exp(-0.5 * np.square(x - mean) / var) / np.sqrt(2 * np.pi * var)\n",
    "    if ax is None:\n",
    "        fig, ax = plt.subplots()\n",
    "\n",
    "    ax.set_xlim([xmin, xmax])\n",
    "    ax.set_ylim([ymin, ymax])\n",
    "\n",
    "    ax.set_title(label)\n",
    "    ax.plot(x, y)\n",
    "\n",
    "\n",
    "plot_data = namedtuple(\"plot_data\", [\"name\", \"data\"])\n",
    "\n",
    "\n",
    "def render_animation(data_list, plot_fn):\n",
    "    \"\"\"\n",
    "        Render simulation as a matplotlib animation.\n",
    "    \"\"\"\n",
    "    import matplotlib.animation as animation\n",
    "    from IPython import display as display\n",
    "\n",
    "    fig, ax = plt.subplots()\n",
    "\n",
    "    def render_frame(i):\n",
    "        ax.clear()\n",
    "        plot_fn(*data_list[i].data, label=data_list[i].name, ax=ax)\n",
    "        return ax\n",
    "\n",
    "    anim = animation.FuncAnimation(fig, render_frame, len(data_list), interval=1000)\n",
    "    video = anim.to_jshtml()\n",
    "    html = display.HTML(video)\n",
    "    display.display(html)\n",
    "    plt.close()\n",
    "\n",
    "\n",
    "def plot_time(gt_locs, measurements, posterior, label='Kalman Filtering', ax=None):\n",
    "    xmin, xmax, ymin, ymax = 0, 10, -5, 15\n",
    "    x = range(xmin, xmax + 1)\n",
    "\n",
    "    if ax is None:\n",
    "        fig, ax = plt.subplots()\n",
    "\n",
    "    ax.set_xlim([xmin, xmax])\n",
    "    ax.set_ylim([ymin, ymax])\n",
    "\n",
    "    ax.set_title(label)\n",
    "\n",
    "    ax.plot(x, gt_locs, label='gt_loc')\n",
    "    ax.plot(x, measurements, label='measurements', marker='o', markerfacecolor='none')\n",
    "\n",
    "    all_mu, all_var = map(np.asarray, zip(*[[pos.mean, pos.var] for pos in posterior]))\n",
    "    all_std = np.sqrt(all_var)\n",
    "    std_top = all_mu + all_std\n",
    "    std_btm = all_mu - all_std\n",
    "    ax.plot(x, all_mu, label='filter')\n",
    "    ax.plot(x, std_top, linestyle='--', color='g')\n",
    "    ax.plot(x, std_btm, linestyle='--', color='g')\n",
    "    ax.fill_between(x, std_btm, std_top, facecolor='g', alpha=0.1)\n",
    "\n",
    "    legend = plt.legend(loc='upper right')\n",
    "    plt.show()"
   ]
  },
  {
   "cell_type": "markdown",
   "id": "4767d4ce",
   "metadata": {},
   "source": [
    "This visualization visualizes the first test example (kf_test1). You can take a look on the animation. Note the\n",
    "    changing in variance of process step and measurement step."
   ]
  },
  {
   "cell_type": "code",
   "execution_count": null,
   "id": "b0a88eb4",
   "metadata": {},
   "outputs": [],
   "source": [
    "def visualize_kalman_test1():\n",
    "    state_init = Gaussian(0, 40)\n",
    "    a = 1.\n",
    "    h = 1.\n",
    "    square_sigma_w = 1.\n",
    "    square_sigma_v = 2.\n",
    "    num_step = 10\n",
    "\n",
    "    simulator = Simulator_1d(process_var=square_sigma_w, measurement_var=square_sigma_v)\n",
    "    controls = [1.0 for _ in range(num_step)]\n",
    "    measurements, gt_locs = map(list, zip(*[simulator.simulate_step(u, return_gt_loc=True) for u in controls]))\n",
    "\n",
    "    result_list = [plot_data('init', [state_init])]\n",
    "\n",
    "    state = state_init\n",
    "    for i in range(num_step):\n",
    "        result_list.append(plot_data(f'step_{i:02d}_process', [kf_process(state, a, square_sigma_w, controls[i])]))\n",
    "        state = kf(state, a, square_sigma_w, h, square_sigma_v, [controls[i]], [measurements[i]])\n",
    "        result_list.append(plot_data(f'step_{i:02d}_posterior', [state]))\n",
    "\n",
    "    gt_locs.insert(0, 0)\n",
    "    measurements.insert(0, 0)\n",
    "    render_animation(result_list, plot_gaussian)\n",
    "    plot_time(gt_locs, measurements,\n",
    "              [res.data[0] for res in result_list if 'posterior' in res.name or 'init' in res.name])\n",
    "\n",
    "\n",
    "visualize_kalman_test1()"
   ]
  }
 ],
 "metadata": {
  "colab": {
   "collapsed_sections": [],
   "name": "hw06.ipynb",
   "provenance": []
  },
  "kernelspec": {
   "display_name": "Python 3",
   "name": "python3"
  },
  "language_info": {
   "name": "python"
  }
 },
 "nbformat": 4,
 "nbformat_minor": 5
}
