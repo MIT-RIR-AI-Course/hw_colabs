{
 "cells": [
  {
   "cell_type": "markdown",
   "id": "cfe50a3f",
   "metadata": {},
   "source": [
    "# Homework 6"
   ]
  },
  {
   "cell_type": "code",
   "execution_count": null,
   "id": "ae4c2d8c",
   "metadata": {},
   "outputs": [],
   "source": [
    "# Setup matplotlib animation\n",
    "import matplotlib\n",
    "matplotlib.rc('animation', html='jshtml')"
   ]
  },
  {
   "cell_type": "markdown",
   "id": "fa2d9c72",
   "metadata": {},
   "source": [
    "## Imports and Utilities\n",
    "**Note**: these imports and functions are available in catsoop. You do not need to copy them in."
   ]
  },
  {
   "cell_type": "code",
   "execution_count": null,
   "id": "339da34a",
   "metadata": {},
   "outputs": [],
   "source": [
    "from typing import Callable, Sequence, List\n",
    "\n",
    "from collections import namedtuple\n",
    "import numpy as np\n",
    "import dataclasses\n",
    "\n",
    "\n",
    "@dataclasses.dataclass(frozen=True)\n",
    "class Gaussian:\n",
    "    mean: float  # Mean of a Gaussian distribution\n",
    "    var: float  # Variance of a Gaussian distribution\n",
    "\n",
    "\n",
    "class Simulator_1d:\n",
    "    \"\"\"A simulator for a robot moving in 1D.\n",
    "\n",
    "    The simulator simulates the motion and sensor noises of the robot by sampling from 1D Gaussians.\n",
    "    \"\"\"\n",
    "\n",
    "    def __init__(self,\n",
    "                 init_state: float = 0.0,\n",
    "                 process_var: float = 0.0,\n",
    "                 measurement_var: float = 0.0,\n",
    "                 seed: int = 0):\n",
    "        # Initial simulator state\n",
    "        self.init_state = init_state\n",
    "        self.process_std = np.sqrt(process_var)\n",
    "        self.measurement_std = np.sqrt(measurement_var)\n",
    "        self.rng = np.random.default_rng(seed)\n",
    "\n",
    "        self.state = self.init_state\n",
    "\n",
    "    def simulate_motion(self, u: float):\n",
    "        \"\"\"Simulate robot motion. This function updates the value of\n",
    "        self.state.\n",
    "        \"\"\"\n",
    "        motion_noise = self.rng.normal(0, self.process_std)\n",
    "        self.state = self.state + u + motion_noise\n",
    "\n",
    "    def simulate_sensing(self) -> float:\n",
    "        \"\"\"Simulate the robot sensing process. Returns a measurement of the robot's current location.\n",
    "            Measurement is based on the current location, with a Gaussian noise added.\n",
    "\n",
    "        Returns:\n",
    "            measurement: a scalar representing the measurement of robot's location.\n",
    "        \"\"\"\n",
    "        sensor_noise = self.rng.normal(0, self.measurement_std)\n",
    "        return self.state + sensor_noise\n",
    "\n",
    "    def simulate_step(self, control: float, return_gt_loc: bool = False):\n",
    "        \"\"\"\n",
    "            Run the simulation for one step with given control input, and returns the sensing result.\n",
    "        \"\"\"\n",
    "        self.simulate_motion(control)\n",
    "        if return_gt_loc:\n",
    "            return self.simulate_sensing(), self.state\n",
    "        return self.simulate_sensing()\n",
    "\n",
    "\n",
    "\n"
   ]
  },
  {
   "cell_type": "markdown",
   "id": "0593dfbd",
   "metadata": {},
   "source": [
    "## Kalman Filter Warmup\n"
   ]
  },
  {
   "cell_type": "markdown",
   "id": "3641e1dc",
   "metadata": {},
   "source": [
    "### Question\n",
    "Return an `Gaussian` object with mean=0, std=2. \n",
    "    Please see the provided code for the definition of `Gaussian`.\n",
    "\n",
    "For reference, our solution is **1** line(s) of code."
   ]
  },
  {
   "cell_type": "code",
   "execution_count": null,
   "id": "bec5aa0d",
   "metadata": {},
   "outputs": [],
   "source": [
    "def kf_warmup() -> Gaussian:\n",
    "    \"\"\"Return an `Gaussian` object with mean=0, std=2.\n",
    "    \"\"\"\n",
    "    raise NotImplementedError(\"Implement me!\")"
   ]
  },
  {
   "cell_type": "markdown",
   "id": "c7700ba9",
   "metadata": {},
   "source": [
    "### Tests"
   ]
  },
  {
   "cell_type": "code",
   "execution_count": null,
   "id": "77661b04",
   "metadata": {},
   "outputs": [],
   "source": [
    "def kf_warmup_test():\n",
    "    dist = kf_warmup()\n",
    "    assert dist.mean == 0\n",
    "    assert dist.var == 4\n",
    "\n",
    "kf_warmup_test()\n",
    "\n",
    "print('Tests passed.')"
   ]
  },
  {
   "cell_type": "markdown",
   "id": "10675603",
   "metadata": {},
   "source": [
    "## Kalman filter process model\n"
   ]
  },
  {
   "cell_type": "markdown",
   "id": "f4d790a8",
   "metadata": {},
   "source": [
    "### Question\n",
    "Implement the process step of a 1D Kalman filter, given a Gaussian prior distribution, \n",
    "  a process model $a$, $\\sigma^2_w$, and a control $u$.\n",
    "\n",
    "For reference, our solution is **4** line(s) of code."
   ]
  },
  {
   "cell_type": "code",
   "execution_count": null,
   "id": "d603183d",
   "metadata": {},
   "outputs": [],
   "source": [
    "def kf_process(state_prior: Gaussian, a: float, square_sigma_w: float,\n",
    "               u: float) -> Gaussian:\n",
    "    \"\"\"Implement the process step of a 1D Kalman filter. \n",
    "    Given a Gaussian prior distribution, a process model $a$, $\\sigma^2_w$, and a control $u$.\n",
    "\n",
    "    Returns: \n",
    "        an updated Gaussian.\n",
    "    \"\"\"\n",
    "    raise NotImplementedError(\"Implement me!\")"
   ]
  },
  {
   "cell_type": "markdown",
   "id": "70fb3be2",
   "metadata": {},
   "source": [
    "### Tests"
   ]
  },
  {
   "cell_type": "code",
   "execution_count": null,
   "id": "df0f152b",
   "metadata": {},
   "outputs": [],
   "source": [
    "def kf_process_test1():\n",
    "    state_prior = Gaussian(4, 4)\n",
    "    pred_state = kf_process(state_prior, 2, 2, 0)\n",
    "    assert np.allclose([pred_state.mean, pred_state.var], [8, 18], atol=1e-4)\n",
    "\n",
    "kf_process_test1()\n",
    "\n",
    "\n",
    "def kf_process_test2():\n",
    "    state_prior = Gaussian(4, 1)\n",
    "    pred_state = kf_process(state_prior, 1, 1, 1)\n",
    "    assert np.allclose([pred_state.mean, pred_state.var], [5, 2], atol=1e-4)\n",
    "\n",
    "kf_process_test2()\n",
    "\n",
    "print('Tests passed.')"
   ]
  },
  {
   "cell_type": "markdown",
   "id": "d9d52cca",
   "metadata": {},
   "source": [
    "## Kalman filter measurement model\n"
   ]
  },
  {
   "cell_type": "markdown",
   "id": "688435b0",
   "metadata": {},
   "source": [
    "### Question\n",
    "Implement the measurement step of a 1D Kalman filter, given a prior mean and variance, \n",
    "  a measurement model $h$, $\\sigma^2_v$, and a received measurement $y$.  \n",
    "\n",
    "For reference, our solution is **18** line(s) of code."
   ]
  },
  {
   "cell_type": "code",
   "execution_count": null,
   "id": "8a800ea2",
   "metadata": {},
   "outputs": [],
   "source": [
    "def kf_measurement(pred_state: Gaussian, h: float, square_sigma_v: float,\n",
    "                   y: float) -> Gaussian:\n",
    "    \"\"\"Implement the measurement step of a 1D Kalman filter, given a prior mean and variance,\n",
    "        a measurement model $h$, $\\sigma^2_v$, and a received measurement $y$.\n",
    "\n",
    "    Returns:\n",
    "        an updated Gaussian given the measurement.\n",
    "    \"\"\"\n",
    "    raise NotImplementedError(\"Implement me!\")"
   ]
  },
  {
   "cell_type": "markdown",
   "id": "874b00ac",
   "metadata": {},
   "source": [
    "### Tests"
   ]
  },
  {
   "cell_type": "code",
   "execution_count": null,
   "id": "289bf067",
   "metadata": {},
   "outputs": [],
   "source": [
    "def kf_measurement_test1():\n",
    "    state = Gaussian(5, 2)\n",
    "    state_posterior = kf_measurement(state, 1, 1, 5)\n",
    "    assert np.allclose([state_posterior.mean, state_posterior.var],\n",
    "                       [5., 0.6667],\n",
    "                       atol=1e-4)\n",
    "\n",
    "kf_measurement_test1()\n",
    "\n",
    "\n",
    "def kf_measurement_test2():\n",
    "    state = Gaussian(5, 2)\n",
    "    state_posterior = kf_measurement(state, 1, 1, 10)\n",
    "    assert np.allclose([state_posterior.mean, state_posterior.var],\n",
    "                       [8.3334, 0.6667],\n",
    "                       atol=1e-4)\n",
    "\n",
    "kf_measurement_test2()\n",
    "\n",
    "print('Tests passed.')"
   ]
  },
  {
   "cell_type": "markdown",
   "id": "54e85734",
   "metadata": {},
   "source": [
    "## Kalman filter\n"
   ]
  },
  {
   "cell_type": "markdown",
   "id": "e337abb0",
   "metadata": {},
   "source": [
    "### Question\n",
    "Combine the process and measurement steps into a single estimator that takes a prior,\n",
    "a process model, a measurement model, a list of controls, measurements, and returns a posterior.\n",
    "\n",
    "For reference, our solution is **9** line(s) of code.\n",
    "\n",
    "In addition to all the utilities defined at the top of the Colab notebook, the following functions are available in this question environment: `kf_measurement`, `kf_process`. You may not need to use all of them."
   ]
  },
  {
   "cell_type": "code",
   "execution_count": null,
   "id": "a1c6e4cc",
   "metadata": {},
   "outputs": [],
   "source": [
    "def kf(state_prior: Gaussian, a: float, square_sigma_w: float, h: float,\n",
    "       square_sigma_v: float, controls: Sequence[float],\n",
    "       measurements: Sequence[float]) -> Gaussian:\n",
    "    \"\"\"Combine the process and measurement steps into a single estimator that takes a prior,\n",
    "        a process model, a measurement model, a list of controls, measurements, and returns a posterior.\n",
    "    \"\"\"\n",
    "    raise NotImplementedError(\"Implement me!\")"
   ]
  },
  {
   "cell_type": "markdown",
   "id": "09ec73b2",
   "metadata": {},
   "source": [
    "### Tests"
   ]
  },
  {
   "cell_type": "code",
   "execution_count": null,
   "id": "139e9108",
   "metadata": {},
   "outputs": [],
   "source": [
    "def kf_test1():\n",
    "    state_init = Gaussian(0, 40)\n",
    "    a = 1.\n",
    "    h = 1.\n",
    "    square_sigma_w = 1.\n",
    "    square_sigma_v = 2.\n",
    "\n",
    "    simulator = Simulator_1d(process_var=square_sigma_w,\n",
    "                             measurement_var=square_sigma_v)\n",
    "    controls = [1.0 for _ in range(10)]\n",
    "    measurements = [simulator.simulate_step(u) for u in controls]\n",
    "\n",
    "    state = kf(state_init, a, square_sigma_w, h, square_sigma_v, controls,\n",
    "               measurements)\n",
    "    assert np.allclose([state.mean, state.var], [7.2195, 1.000], atol=1e-4)\n",
    "\n",
    "kf_test1()\n",
    "\n",
    "\n",
    "def kf_test2():\n",
    "    state_init = Gaussian(0, 400)\n",
    "    a = 1.\n",
    "    h = 1.\n",
    "    square_sigma_w = 4.\n",
    "    square_sigma_v = 1.\n",
    "\n",
    "    simulator = Simulator_1d(process_var=square_sigma_w,\n",
    "                             measurement_var=square_sigma_v)\n",
    "    controls = [2. for _ in range(40)]\n",
    "    measurements = [simulator.simulate_step(u) for u in controls]\n",
    "\n",
    "    state = kf(state_init, a, square_sigma_w, h, square_sigma_v, controls,\n",
    "               measurements)\n",
    "    assert np.allclose([state.mean, state.var], [87.0068, 0.8284], atol=1e-4)\n",
    "\n",
    "kf_test2()\n",
    "\n",
    "print('Tests passed.')"
   ]
  },
  {
   "cell_type": "markdown",
   "id": "cec72057",
   "metadata": {},
   "source": [
    "## Kalman Filter Visualization\n"
   ]
  },
  {
   "cell_type": "markdown",
   "id": "9d76794e",
   "metadata": {},
   "source": [
    "### Question\n",
    "We have created a visualization tool in Colab for the filtering process. \n",
    "    You can run the code blocks and an animation of the filtered Gaussian in each step will be shown.\n",
    "    There is also a plot showing the line chart of ground-truth locations, measurements, and posteriors."
   ]
  },
  {
   "cell_type": "code",
   "execution_count": null,
   "id": "14dc0348",
   "metadata": {},
   "outputs": [],
   "source": [
    "import matplotlib.pyplot as plt\n",
    "\n",
    "\n",
    "def plot_gaussian(dist: Gaussian, label: str, ax=None):\n",
    "    mean, var = dist.mean, dist.var\n",
    "\n",
    "    xmin, xmax, ymin, ymax = -5, 15, 0, 0.6\n",
    "    x = np.linspace(xmin, xmax, 100)\n",
    "    y = np.exp(-0.5 * np.square(x - mean) / var) / np.sqrt(2 * np.pi * var)\n",
    "    if ax is None:\n",
    "        fig, ax = plt.subplots()\n",
    "\n",
    "    ax.set_xlim([xmin, xmax])\n",
    "    ax.set_ylim([ymin, ymax])\n",
    "\n",
    "    ax.set_title(label)\n",
    "    ax.plot(x, y)\n",
    "\n",
    "\n",
    "PlotData = namedtuple(\"PlotData\", [\"name\", \"data\"])\n",
    "\n",
    "\n",
    "def render_animation(data_list: List[PlotData], plot_fn: Callable):\n",
    "    \"\"\"Render simulation as a matplotlib animation.\"\"\"\n",
    "    import matplotlib.animation as animation\n",
    "    from IPython import display as display\n",
    "\n",
    "    fig, ax = plt.subplots()\n",
    "\n",
    "    def render_frame(i):\n",
    "        ax.clear()\n",
    "        plot_fn(*data_list[i].data, label=data_list[i].name, ax=ax)\n",
    "        return ax\n",
    "\n",
    "    anim = animation.FuncAnimation(fig,\n",
    "                                   render_frame,\n",
    "                                   len(data_list),\n",
    "                                   interval=1000)\n",
    "    video = anim.to_jshtml()\n",
    "    html = display.HTML(video)\n",
    "    display.display(html)\n",
    "    plt.close()\n",
    "\n",
    "\n",
    "def plot_time(gt_locs,\n",
    "              measurements,\n",
    "              posterior,\n",
    "              label='Kalman Filtering',\n",
    "              ax=None):\n",
    "    xmin, xmax, ymin, ymax = 0, 10, -5, 15\n",
    "    x = range(xmin, xmax + 1)\n",
    "\n",
    "    if ax is None:\n",
    "        fig, ax = plt.subplots()\n",
    "\n",
    "    ax.set_xlim([xmin, xmax])\n",
    "    ax.set_ylim([ymin, ymax])\n",
    "\n",
    "    ax.set_title(label)\n",
    "\n",
    "    ax.plot(x, gt_locs, label='gt_loc')\n",
    "    ax.plot(x,\n",
    "            measurements,\n",
    "            label='measurements',\n",
    "            marker='o',\n",
    "            markerfacecolor='none')\n",
    "\n",
    "    all_mu, all_var = map(np.asarray,\n",
    "                          zip(*[[pos.mean, pos.var] for pos in posterior]))\n",
    "    all_std = np.sqrt(all_var)\n",
    "    std_top = all_mu + all_std\n",
    "    std_btm = all_mu - all_std\n",
    "    ax.plot(x, all_mu, label='filter')\n",
    "    ax.plot(x, std_top, linestyle='--', color='g')\n",
    "    ax.plot(x, std_btm, linestyle='--', color='g')\n",
    "    ax.fill_between(x, std_btm, std_top, facecolor='g', alpha=0.1)\n",
    "\n",
    "    legend = plt.legend(loc='upper right')\n",
    "    plt.show()"
   ]
  },
  {
   "cell_type": "markdown",
   "id": "e30d1d20",
   "metadata": {},
   "source": [
    "This code visualizes the first test example (kf_test1). \n",
    "    You can take a look on the animation. \n",
    "    Please note the changing in variance of process step and measurement step."
   ]
  },
  {
   "cell_type": "code",
   "execution_count": null,
   "id": "5b7c054f",
   "metadata": {},
   "outputs": [],
   "source": [
    "def visualize_kalman_test1():\n",
    "    state_init = Gaussian(0, 40)\n",
    "    a = 1.\n",
    "    h = 1.\n",
    "    square_sigma_w = 1.\n",
    "    square_sigma_v = 2.\n",
    "    num_step = 10\n",
    "\n",
    "    simulator = Simulator_1d(process_var=square_sigma_w,\n",
    "                             measurement_var=square_sigma_v)\n",
    "    controls = [1.0 for _ in range(num_step)]\n",
    "    measurements, gt_locs = map(\n",
    "        list,\n",
    "        zip(*[simulator.simulate_step(u, return_gt_loc=True)\n",
    "              for u in controls]))\n",
    "\n",
    "    result_list = [PlotData('init', [state_init])]\n",
    "\n",
    "    state = state_init\n",
    "    for i in range(num_step):\n",
    "        result_list.append(\n",
    "            PlotData(f'step_{i:02d}_process',\n",
    "                     [kf_process(state, a, square_sigma_w, controls[i])]))\n",
    "        state = kf(state, a, square_sigma_w, h, square_sigma_v, [controls[i]],\n",
    "                   [measurements[i]])\n",
    "        result_list.append(PlotData(f'step_{i:02d}_posterior', [state]))\n",
    "\n",
    "    gt_locs.insert(0, 0)\n",
    "    measurements.insert(0, 0)\n",
    "    render_animation(result_list, plot_gaussian)\n",
    "    plot_time(gt_locs, measurements, [\n",
    "        res.data[0]\n",
    "        for res in result_list\n",
    "        if 'posterior' in res.name or 'init' in res.name\n",
    "    ])\n",
    "\n",
    "\n",
    "visualize_kalman_test1()"
   ]
  }
 ],
 "metadata": {
  "colab": {
   "collapsed_sections": [],
   "name": "hw06.ipynb",
   "provenance": []
  },
  "kernelspec": {
   "display_name": "Python 3",
   "name": "python3"
  },
  "language_info": {
   "name": "python"
  }
 },
 "nbformat": 4,
 "nbformat_minor": 5
}
