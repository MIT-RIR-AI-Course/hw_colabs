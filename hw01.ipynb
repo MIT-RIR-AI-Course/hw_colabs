{
 "cells": [
  {
   "cell_type": "markdown",
   "id": "a859f0a0",
   "metadata": {},
   "source": [
    "# Homework 1"
   ]
  },
  {
   "cell_type": "markdown",
   "id": "d41c2e57",
   "metadata": {},
   "source": [
    "## Imports and Utilities\n",
    "**Note**: these imports and functions are available in catsoop. You do not need to copy them in."
   ]
  },
  {
   "cell_type": "code",
   "execution_count": null,
   "id": "b8c22657",
   "metadata": {},
   "outputs": [],
   "source": [
    "\n",
    "########## Graph-Search-Related Utilities and Class Definitions ##########\n",
    "\n",
    "from collections import namedtuple, defaultdict\n",
    "from typing import Optional, List\n",
    "import heapq as hq\n",
    "import numpy as np\n",
    "import math\n",
    "import random\n",
    "\n",
    "\n",
    "def grid_successor_fn(state):\n",
    "  \"\"\"Helper for testing heuristic search.\n",
    "  \"\"\"\n",
    "  arrival_costs = np.array([\n",
    "    [1, 1, 8, 1, 1],\n",
    "    [1, 8, 1, 1, 1],\n",
    "    [1, 8, 1, 1, 1],\n",
    "    [1, 1, 1, 8, 1],\n",
    "    [1, 1, 2, 1, 1],\n",
    "  ], dtype=float)\n",
    "\n",
    "  act_to_delta = {\n",
    "    \"up\": (-1, 0),\n",
    "    \"down\": (1, 0),\n",
    "    \"left\": (0, -1),\n",
    "    \"right\": (0, 1),\n",
    "  }\n",
    "\n",
    "  r, c = state\n",
    "\n",
    "  for act, (dr, dc) in act_to_delta.items():\n",
    "    new_r, new_c = r + dr, c + dc\n",
    "    # Check if in bounds\n",
    "    if not (0 <= new_r < arrival_costs.shape[0] and \\\n",
    "            0 <= new_c < arrival_costs.shape[1]):\n",
    "      continue\n",
    "    # Valid action\n",
    "    yield (act, (new_r, new_c), arrival_costs[new_r, new_c])\n",
    "\n",
    "\n",
    "def grid_check_goal_fn(state):\n",
    "  \"\"\"Helper for testing heuristic search.\n",
    "  \"\"\"\n",
    "  # Bottom right corner of grid\n",
    "  return state == (4, 4)\n",
    "\n",
    "\n",
    "def grid_heuristic_fn(state):\n",
    "  \"\"\"Helper for testing heuristic search.\n",
    "  \"\"\"\n",
    "  # Manhattan distance\n",
    "  return abs(state[0] - 4) + abs(state[1] - 4)\n",
    "\n",
    "\n",
    "# A useful data structure for heuristic search\n",
    "Node = namedtuple(\"Node\", [\"state\", \"parent\", \"action\", \"cost\", \"g\"])\n",
    "\n",
    "\n"
   ]
  },
  {
   "cell_type": "markdown",
   "id": "089af7b2",
   "metadata": {},
   "source": [
    "## Problems"
   ]
  },
  {
   "cell_type": "markdown",
   "id": "5bd4ddd8",
   "metadata": {},
   "source": [
    "### Heuristic Search\n",
    "Complete an implementation of heuristic search, encompassing A*, GBFS, or UCS.  You can assume any heuristics are consistent.\n",
    "\n",
    "For reference, our solution is **46** lines of code."
   ]
  },
  {
   "cell_type": "code",
   "execution_count": null,
   "id": "66b8ad21",
   "metadata": {},
   "outputs": [],
   "source": [
    "def run_heuristic_search(initial_state, check_goal, get_successors, get_priority, max_expansions=1000):\n",
    "  \"\"\"A generic heuristic search implementation.\n",
    "\n",
    "  Depending on get_priority, can implement A*, GBFS, or UCS.\n",
    "\n",
    "  The get_priority function here should determine the order\n",
    "  in which nodes are expanded. For example, if you want to\n",
    "  use path cost as part of this determination, then the\n",
    "  path cost (node.g) should appear inside of get_priority,\n",
    "  rather than in this implementation of `run_heuristic_search`.\n",
    "\n",
    "  Important: for determinism (and to make sure our tests pass),\n",
    "  please break ties using the state itself. For example,\n",
    "  if you would've otherwise sorted by get_priority(node), you\n",
    "  should now sort by (get_priority(node), node.state).\n",
    "\n",
    "  Args:\n",
    "    initial_state: A hashable representation of state.\n",
    "    check_goal: A callable that takes a state and returns True\n",
    "        if the state is a goal.\n",
    "    get_successors: A callable that takes a state and returns an\n",
    "        iterable of (action, next state, cost).\n",
    "    get_priority: A callable that takes a Node and returns a\n",
    "        float priority, with lower better, for the priority\n",
    "        queue. This function is what switches between different\n",
    "        versions of heurstic search.\n",
    "    max_expansions: An int maximum number of nodes to expand\n",
    "        before giving up.\n",
    "\n",
    "  Returns:\n",
    "    state_sequence: A list of states.\n",
    "    action_sequence: A list of actions.\n",
    "    cost_sequence: A list of costs.\n",
    "    num_node_expansions: An int.\n",
    "\n",
    "  Raises:\n",
    "    error: ValueError, if no plan was found.\n",
    "  \"\"\"\n",
    "  raise NotImplementedError(\"Implement me!\")"
   ]
  },
  {
   "cell_type": "markdown",
   "id": "78382c3a",
   "metadata": {},
   "source": [
    "Tests"
   ]
  },
  {
   "cell_type": "code",
   "execution_count": null,
   "id": "714dc8fc",
   "metadata": {},
   "outputs": [],
   "source": [
    "# We will test this implementation more thoroughly with the\n",
    "# specific heuristic search algorithms that follow\n",
    "initial_state = (0, 0)\n",
    "get_priority_fn = lambda node: 0\n",
    "result = run_heuristic_search(initial_state, grid_check_goal_fn,\n",
    "    grid_successor_fn, get_priority_fn)\n",
    "assert len(result) == 4\n",
    "\n",
    "def heuristic_search_test2():\n",
    "    # We will test this implementation more thoroughly with the\n",
    "    # specific heuristic search algorithms that follow\n",
    "    initial_state = (0, 0)\n",
    "    get_priority_fn = lambda node: 0\n",
    "    state_sequence, action_sequence, cost_sequence, num_expansions = run_heuristic_search(initial_state, grid_check_goal_fn,\n",
    "        grid_successor_fn, get_priority_fn)\n",
    "    # Textbook implementation\n",
    "    try:\n",
    "        assert state_sequence == [(0, 0), (0, 1), (0, 2), (0, 3), (0, 4), (1, 4), (2, 4), (3, 4), (4, 4)]\n",
    "        assert action_sequence == ['right', 'right', 'right', 'right', 'down', 'down', 'down', 'down']\n",
    "        assert cost_sequence == [1.0, 8.0, 1.0, 1.0, 1.0, 1.0, 1.0, 1.0]\n",
    "    # Alternative implementation that tracks best-cost-to-nodes\n",
    "    except AssertionError:\n",
    "        assert state_sequence == [(0, 0), (1, 0), (2, 0), (3, 0), (3, 1), (3, 2), (4, 2), (4, 3), (4, 4)]\n",
    "        assert action_sequence == ['down', 'down', 'down', 'right', 'right', 'down', 'right', 'right']\n",
    "        assert cost_sequence == [1.0, 1.0, 1.0, 1.0, 1.0, 2.0, 1.0, 1.0]\n",
    "    assert num_expansions <= 35\n",
    "\n",
    "heuristic_search_test2()\n",
    "def heuristic_search_test3():\n",
    "    # If your results do not match the expected ones, make sure that you are tiebreaking\n",
    "    # as described in the docstring for `run_heuristic_search`.\n",
    "    initial_state = (0, 0)\n",
    "    get_priority_fn = lambda node: node.g\n",
    "    state_sequence, action_sequence, cost_sequence, num_expansions = run_heuristic_search(initial_state, grid_check_goal_fn,\n",
    "        grid_successor_fn, get_priority_fn)\n",
    "    assert state_sequence == [(0, 0), (1, 0), (2, 0), (3, 0), (3, 1), (3, 2), (4, 2), (4, 3), (4, 4)]\n",
    "    assert action_sequence == ['down', 'down', 'down', 'right', 'right', 'down', 'right', 'right']\n",
    "    assert cost_sequence == [1.0, 1.0, 1.0, 1.0, 1.0, 2.0, 1.0, 1.0]\n",
    "    assert num_expansions <= 35\n",
    "\n",
    "heuristic_search_test3()\n",
    "print('Tests passed.')"
   ]
  },
  {
   "cell_type": "markdown",
   "id": "a9667bdb",
   "metadata": {},
   "source": [
    "### Uniform Cost Search\n",
    "Use your implementation of `run_heuristic_search` to implement uniform cost search.\n",
    "\n",
    "For reference, our solution is **4** lines of code.\n",
    "\n",
    "In addition to all of the utilities defined at the top of the colab notebook, the following functions are available in this question environment: `run_heuristic_search`. You may not need to use all of them."
   ]
  },
  {
   "cell_type": "code",
   "execution_count": null,
   "id": "d22f6db2",
   "metadata": {},
   "outputs": [],
   "source": [
    "def run_uniform_cost_search(initial_state, check_goal, get_successors, max_expansions=1000):\n",
    "  \"\"\"Uniform-cost search.\n",
    "\n",
    "  Use your implementation of `run_heuristic_search`.\n",
    "\n",
    "  Args:\n",
    "    initial_state: A hashable representation of state.\n",
    "    check_goal: A callable that takes a state and returns True\n",
    "        if the state is a goal.\n",
    "    get_successors: A callable that takes a state and returns an\n",
    "        iterable of (action, next state, cost).\n",
    "    max_expansions: An int maximum number of nodes to expand\n",
    "        because giving up.\n",
    "\n",
    "  Returns:\n",
    "    state_sequence: A list of states.\n",
    "    action_sequence: A list of actions.\n",
    "    cost_sequence: A list of costs.\n",
    "    num_node_expansions: An int.\n",
    "\n",
    "  Raises:\n",
    "    error: ValueError, if no plan was found.\n",
    "  \"\"\"\n",
    "  raise NotImplementedError(\"Implement me!\")"
   ]
  },
  {
   "cell_type": "markdown",
   "id": "0a4e01dc",
   "metadata": {},
   "source": [
    "Tests"
   ]
  },
  {
   "cell_type": "code",
   "execution_count": null,
   "id": "4d5eed5b",
   "metadata": {},
   "outputs": [],
   "source": [
    "def ucs_test1():\n",
    "    # If your results do not match the expected ones, make sure that you are tiebreaking\n",
    "    # as described in the docstring for `run_heuristic_search`.\n",
    "    initial_state = (0, 0)\n",
    "    state_sequence, action_sequence, cost_sequence, num_expansions = run_uniform_cost_search(\n",
    "        initial_state, grid_check_goal_fn, grid_successor_fn)\n",
    "    assert state_sequence == [(0, 0), (1, 0), (2, 0), (3, 0), (3, 1), (3, 2), (4, 2), (4, 3), (4, 4)]\n",
    "    assert action_sequence == ['down', 'down', 'down', 'right', 'right', 'down', 'right', 'right']\n",
    "    assert cost_sequence == [1.0, 1.0, 1.0, 1.0, 1.0, 2.0, 1.0, 1.0]\n",
    "    assert num_expansions <= 30\n",
    "\n",
    "ucs_test1()\n",
    "print('Tests passed.')"
   ]
  },
  {
   "cell_type": "markdown",
   "id": "c4e9d545",
   "metadata": {},
   "source": [
    "### A* Search\n",
    "Use your implementation of `run_heuristic_search` to implement A* search.\n",
    "\n",
    "For reference, our solution is **4** lines of code.\n",
    "\n",
    "In addition to all of the utilities defined at the top of the colab notebook, the following functions are available in this question environment: `run_heuristic_search`. You may not need to use all of them."
   ]
  },
  {
   "cell_type": "code",
   "execution_count": null,
   "id": "406b75bd",
   "metadata": {},
   "outputs": [],
   "source": [
    "def run_astar_search(initial_state, check_goal, get_successors, heuristic, max_expansions=1000):\n",
    "  \"\"\"A* search.\n",
    "\n",
    "  Use your implementation of `run_heuristic_search`.\n",
    "\n",
    "  Args:\n",
    "    initial_state: A hashable representation of state.\n",
    "    check_goal: A callable that takes a state and returns True\n",
    "        if the state is a goal.\n",
    "    get_successors: A callable that takes a state and returns an\n",
    "        iterable of (action, next state, cost).\n",
    "    heuristic: A callable that takes a state and returns an\n",
    "        estimated cost-to-go (must be nonnegative).\n",
    "    max_expansions: An int maximum number of nodes to expand\n",
    "        because giving up.\n",
    "\n",
    "  Returns:\n",
    "    state_sequence: A list of states.\n",
    "    action_sequence: A list of actions.\n",
    "    cost_sequence: A list of costs.\n",
    "    num_node_expansions: An int.\n",
    "\n",
    "  Raises:\n",
    "    error: ValueError, if no plan was found.\n",
    "  \"\"\"\n",
    "  raise NotImplementedError(\"Implement me!\")"
   ]
  },
  {
   "cell_type": "markdown",
   "id": "14eeece1",
   "metadata": {},
   "source": [
    "Tests"
   ]
  },
  {
   "cell_type": "code",
   "execution_count": null,
   "id": "ccdd7ee7",
   "metadata": {},
   "outputs": [],
   "source": [
    "def astar_test1():\n",
    "    initial_state = (0, 0)\n",
    "    state_sequence, action_sequence, cost_sequence, num_expansions = run_astar_search(\n",
    "        initial_state, grid_check_goal_fn, grid_successor_fn, grid_heuristic_fn)\n",
    "    assert state_sequence == [(0, 0), (1, 0), (2, 0), (3, 0), (3, 1), (3, 2), (4, 2), (4, 3), (4, 4)]\n",
    "    assert action_sequence == ['down', 'down', 'down', 'right', 'right', 'down', 'right', 'right']\n",
    "    assert cost_sequence == [1.0, 1.0, 1.0, 1.0, 1.0, 2.0, 1.0, 1.0]\n",
    "    assert num_expansions <= 20\n",
    "\n",
    "astar_test1()\n",
    "print('Tests passed.')"
   ]
  },
  {
   "cell_type": "markdown",
   "id": "332da1bf",
   "metadata": {},
   "source": [
    "### Greedy Best-First Search\n",
    "Use your implementation of `run_heuristic_search` to implement GBFS.\n",
    "\n",
    "For reference, our solution is **4** lines of code.\n",
    "\n",
    "In addition to all of the utilities defined at the top of the colab notebook, the following functions are available in this question environment: `run_heuristic_search`. You may not need to use all of them."
   ]
  },
  {
   "cell_type": "code",
   "execution_count": null,
   "id": "67bed5ff",
   "metadata": {},
   "outputs": [],
   "source": [
    "def run_greedy_best_first_search(initial_state, check_goal, get_successors, heuristic, max_expansions=1000):\n",
    "  \"\"\"GBFS.\n",
    "\n",
    "  Use your implementation of `run_heuristic_search`.\n",
    "\n",
    "  Args:\n",
    "    initial_state: A hashable representation of state.\n",
    "    check_goal: A callable that takes a state and returns True\n",
    "        if the state is a goal.\n",
    "    get_successors: A callable that takes a state and returns an\n",
    "        iterable of (action, next state, cost).\n",
    "    heuristic: A callable that takes a state and returns an\n",
    "        estimated cost-to-go (must be nonnegative).\n",
    "    max_expansions: An int maximum number of nodes to expand\n",
    "        because giving up.\n",
    "\n",
    "  Returns:\n",
    "    state_sequence: A list of states.\n",
    "    action_sequence: A list of actions.\n",
    "    cost_sequence: A list of costs.\n",
    "    num_node_expansions: An int.\n",
    "\n",
    "  Raises:\n",
    "    error: ValueError, if no plan was found.\n",
    "  \"\"\"\n",
    "  raise NotImplementedError(\"Implement me!\")"
   ]
  },
  {
   "cell_type": "markdown",
   "id": "6b41a06d",
   "metadata": {},
   "source": [
    "Tests"
   ]
  },
  {
   "cell_type": "code",
   "execution_count": null,
   "id": "672d5b73",
   "metadata": {},
   "outputs": [],
   "source": [
    "def gbfs_test1():\n",
    "    # If your results do not match the expected ones, make sure that you are tiebreaking\n",
    "    # as described in the docstring for `run_heuristic_search`.\n",
    "    initial_state = (0, 0)\n",
    "    state_sequence, action_sequence, cost_sequence, num_expansions = run_greedy_best_first_search(\n",
    "        initial_state, grid_check_goal_fn, grid_successor_fn, grid_heuristic_fn)\n",
    "    assert state_sequence == [(0, 0), (0, 1), (0, 2), (0, 3), (0, 4), (1, 4), (2, 4), (3, 4), (4, 4)]\n",
    "    assert action_sequence == ['right', 'right', 'right', 'right', 'down', 'down', 'down', 'down']\n",
    "    assert cost_sequence == [1.0, 8.0, 1.0, 1.0, 1.0, 1.0, 1.0, 1.0]\n",
    "    assert abs(num_expansions - 8) <= 1\n",
    "\n",
    "gbfs_test1()\n",
    "print('Tests passed.')"
   ]
  }
 ],
 "metadata": {
  "colab": {
   "collapsed_sections": [],
   "name": "hw01.ipynb",
   "provenance": []
  },
  "kernelspec": {
   "display_name": "Python 3",
   "name": "python3"
  },
  "language_info": {
   "name": "python"
  }
 },
 "nbformat": 4,
 "nbformat_minor": 5
}
