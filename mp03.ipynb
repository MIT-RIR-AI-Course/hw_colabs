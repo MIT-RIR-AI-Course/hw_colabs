{
 "cells": [
  {
   "cell_type": "markdown",
   "id": "1244bb3c",
   "metadata": {},
   "source": [
    "# Miniproject 3"
   ]
  },
  {
   "cell_type": "code",
   "execution_count": null,
   "id": "2b1c919b",
   "metadata": {},
   "outputs": [],
   "source": [
    "\n",
    "!pip install backports.cached_property\n",
    "\n",
    "# Setup matplotlib animation\n",
    "import matplotlib\n",
    "matplotlib.rc('animation', html='jshtml')\n"
   ]
  }
 ],
 "metadata": {
  "colab": {
   "collapsed_sections": [],
   "name": "mp03.ipynb",
   "provenance": []
  },
  "kernelspec": {
   "display_name": "Python 3",
   "name": "python3"
  },
  "language_info": {
   "name": "python"
  }
 },
 "nbformat": 4,
 "nbformat_minor": 5
}
