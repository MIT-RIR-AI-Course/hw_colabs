{
 "cells": [
  {
   "cell_type": "markdown",
   "id": "aac85a71",
   "metadata": {},
   "source": [
    "# Miniproject 3"
   ]
  },
  {
   "cell_type": "code",
   "execution_count": null,
   "id": "dffd59d3",
   "metadata": {},
   "outputs": [],
   "source": [
    "\n",
    "!pip install backports.cached_property\n",
    "\n",
    "# Setup matplotlib animation\n",
    "import matplotlib\n",
    "matplotlib.rc('animation', html='jshtml')\n"
   ]
  }
 ],
 "metadata": {
  "colab": {
   "collapsed_sections": [],
   "name": "mp03.ipynb",
   "provenance": []
  },
  "kernelspec": {
   "display_name": "Python 3",
   "name": "python3"
  },
  "language_info": {
   "name": "python"
  }
 },
 "nbformat": 4,
 "nbformat_minor": 5
}
